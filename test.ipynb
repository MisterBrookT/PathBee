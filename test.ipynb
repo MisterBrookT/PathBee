{
 "cells": [
  {
   "cell_type": "code",
   "execution_count": 1,
   "metadata": {},
   "outputs": [
    {
     "name": "stderr",
     "output_type": "stream",
     "text": [
      "<frozen importlib._bootstrap>:228: ReducedFunctionalityWarning: WARNING: module 'pandas' not found, some functionality will be restricted\n"
     ]
    }
   ],
   "source": [
    "import launch\n",
    "adj_size = 4500000\n",
    "\n",
    "\n",
    "datasets = ['USR.txt', 'HEP.txt', 'GN.txt']\n",
    "# datasets = ['HEP.txt']\n",
    "graph_folder = \"datasets/graphs/real_world\"\n",
    "model_path = \"models/rebuild_no_normal.pt\"\n"
   ]
  },
  {
   "cell_type": "code",
   "execution_count": 2,
   "metadata": {},
   "outputs": [],
   "source": [
    "# test of gen_dataset \n",
    "# launch.gen_dataset(adj_size= adj_size)"
   ]
  },
  {
   "cell_type": "code",
   "execution_count": 3,
   "metadata": {},
   "outputs": [
    {
     "name": "stderr",
     "output_type": "stream",
     "text": [
      "2024-08-01 15:28:53,059 - pathbee - INFO - Loading data...\n"
     ]
    },
    {
     "name": "stdout",
     "output_type": "stream",
     "text": [
      "cuda:0\n"
     ]
    },
    {
     "name": "stderr",
     "output_type": "stream",
     "text": [
      "2024-08-01 15:29:00,864 - pathbee - INFO - Training\n"
     ]
    },
    {
     "name": "stdout",
     "output_type": "stream",
     "text": [
      "Total Number of epoches: 10\n",
      "Epoch number: 1/10\n",
      "loss_train: 72.40020135045052\n",
      " loss_test: 16.914312958717346\n",
      "  Average KT score on test graphs is: 0.9765561828745492 and std: 8.710568688557415e-05\n",
      "save the 1 epoch model to models/D+1_SUM_aggre_D_use_normal.pt...\n",
      "Epoch number: 2/10\n",
      "loss_train: 67.84847915172577\n",
      " loss_test: 16.888361126184464\n",
      "  Average KT score on test graphs is: 0.9770227694948899 and std: 9.48250948011672e-05\n",
      "save the 2 epoch model to models/D+1_SUM_aggre_D_use_normal.pt...\n",
      "Epoch number: 3/10\n",
      "loss_train: 67.46721374988556\n",
      " loss_test: 16.881403863430023\n",
      "  Average KT score on test graphs is: 0.9769068615180845 and std: 0.00011616816248666096\n",
      "save the 3 epoch model to models/D+1_SUM_aggre_D_use_normal.pt...\n",
      "Epoch number: 4/10\n",
      "loss_train: 67.26332065463066\n",
      " loss_test: 16.87886568903923\n",
      "  Average KT score on test graphs is: 0.9769207705339764 and std: 0.0001437318228303969\n",
      "save the 4 epoch model to models/D+1_SUM_aggre_D_use_normal.pt...\n",
      "Epoch number: 5/10\n",
      "loss_train: 67.11735692620277\n",
      " loss_test: 16.884066373109818\n",
      "  Average KT score on test graphs is: 0.976761077300353 and std: 0.00013709390238195139\n",
      "Epoch number: 6/10\n",
      "loss_train: 66.99320495128632\n",
      " loss_test: 16.89649787545204\n",
      "  Average KT score on test graphs is: 0.9765859386358273 and std: 0.00016180389656898794\n",
      "Epoch number: 7/10\n",
      "loss_train: 66.90085569024086\n",
      " loss_test: 16.903890281915665\n",
      "  Average KT score on test graphs is: 0.976422699881051 and std: 0.0001994120371468817\n",
      "Epoch number: 8/10\n",
      "loss_train: 66.8269801735878\n",
      " loss_test: 16.919607490301132\n",
      "  Average KT score on test graphs is: 0.9762472302266039 and std: 0.0003143997951047051\n",
      "Epoch number: 9/10\n",
      "loss_train: 66.75125363469124\n",
      " loss_test: 16.932440102100372\n",
      "  Average KT score on test graphs is: 0.9760642072591764 and std: 0.00036053846093832536\n",
      "Epoch number: 10/10\n",
      "loss_train: 66.71422958374023\n",
      " loss_test: 16.94793537259102\n",
      "  Average KT score on test graphs is: 0.9758799554126375 and std: 0.00046797673190143615\n"
     ]
    }
   ],
   "source": [
    "\n",
    "launch.train_gnn(adj_size=adj_size, model_path=model_path, use_cache_pth= True)"
   ]
  },
  {
   "cell_type": "code",
   "execution_count": 4,
   "metadata": {},
   "outputs": [
    {
     "name": "stderr",
     "output_type": "stream",
     "text": [
      "2024-08-01 16:02:37,699 - pathbee - INFO - model used for inference: models/D+1_SUM_aggre_D_use_normal.pt\n"
     ]
    },
    {
     "name": "stdout",
     "output_type": "stream",
     "text": [
      "cuda:0\n",
      "map datasets/graphs/real_world/USR.txt has 129164 nodes and 165435 edges.\n",
      "Processing graphs: 1/1\n",
      "map datasets/graphs/real_world/HEP.txt has 34546 nodes and 421534 edges.\n",
      "Processing graphs: 1/1\n",
      "map datasets/graphs/real_world/GN.txt has 62586 nodes and 147892 edges.\n",
      "Processing graphs: 1/1\n"
     ]
    }
   ],
   "source": [
    "launch.inference_gnn_based_centrality(graph_names=datasets, model_path=model_path, adj_size= adj_size)"
   ]
  },
  {
   "cell_type": "code",
   "execution_count": 5,
   "metadata": {},
   "outputs": [
    {
     "name": "stderr",
     "output_type": "stream",
     "text": [
      "2024-08-01 16:02:50,304 - pathbee - INFO - start running g++ pathbee/algorithms/2_hop_labeling.cpp -o 2_hop_labeling...\n"
     ]
    },
    {
     "name": "stdout",
     "output_type": "stream",
     "text": [
      "graph_names: ['USR.txt', 'HEP.txt', 'GN.txt']\n",
      "algorithm_path: pathbee/algorithms/2_hop_labeling.cpp\n",
      "num_processes: 3\n",
      "centrality_folder: datasets/centralities\n",
      "centrality_type: gnn\n",
      "graph_folder: datasets/graphs/real_world\n"
     ]
    },
    {
     "name": "stderr",
     "output_type": "stream",
     "text": [
      "2024-08-01 16:02:51,538 - pathbee - INFO - \n",
      "2024-08-01 16:02:51,540 - pathbee - INFO - finish running g++ pathbee/algorithms/2_hop_labeling.cpp -o 2_hop_labeling...\n",
      "\n",
      "2024-08-01 16:02:51,655 - pathbee - INFO - start running ./2_hop_labeling datasets/graphs/real_world/USR.txt datasets/centralities/gnn/USR_ranking.txt...\n",
      "2024-08-01 16:02:51,722 - pathbee - INFO - start running ./2_hop_labeling datasets/graphs/real_world/HEP.txt datasets/centralities/gnn/HEP_ranking.txt...\n",
      "2024-08-01 16:02:51,801 - pathbee - INFO - start running ./2_hop_labeling datasets/graphs/real_world/GN.txt datasets/centralities/gnn/GN_ranking.txt...\n",
      "2024-08-01 16:02:57,865 - pathbee - INFO - index building time:5.701071s, index size:38.429241MB\n",
      "2024-08-01 16:02:57,867 - pathbee - INFO - finish running ./2_hop_labeling datasets/graphs/real_world/USR.txt datasets/centralities/gnn/USR_ranking.txt...\n",
      "\n",
      "2024-08-01 16:03:27,215 - pathbee - INFO - index building time:34.965279s, index size:60.483470MB\n",
      "2024-08-01 16:03:27,219 - pathbee - INFO - finish running ./2_hop_labeling datasets/graphs/real_world/HEP.txt datasets/centralities/gnn/HEP_ranking.txt...\n",
      "\n",
      "2024-08-01 16:04:30,010 - pathbee - INFO - index building time:97.839746s, index size:181.533971MB\n",
      "2024-08-01 16:04:30,013 - pathbee - INFO - finish running ./2_hop_labeling datasets/graphs/real_world/GN.txt datasets/centralities/gnn/GN_ranking.txt...\n",
      "\n",
      "2024-08-01 16:04:30,102 - pathbee - INFO - -----------------------------------------------------------------------------\n"
     ]
    }
   ],
   "source": [
    "launch.run_2_hop_labeling(graph_names=datasets, num_processes=3, centrality_type=\"gnn\")"
   ]
  },
  {
   "cell_type": "code",
   "execution_count": 6,
   "metadata": {},
   "outputs": [],
   "source": [
    "# launch.run_2_hop_labeling(graph_names=datasets, num_processes=3, centrality_type= \"dc\")"
   ]
  }
 ],
 "metadata": {
  "kernelspec": {
   "display_name": "fuck",
   "language": "python",
   "name": "python3"
  },
  "language_info": {
   "codemirror_mode": {
    "name": "ipython",
    "version": 3
   },
   "file_extension": ".py",
   "mimetype": "text/x-python",
   "name": "python",
   "nbconvert_exporter": "python",
   "pygments_lexer": "ipython3",
   "version": "3.9.19"
  }
 },
 "nbformat": 4,
 "nbformat_minor": 2
}
