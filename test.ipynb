{
 "cells": [
  {
   "cell_type": "code",
   "execution_count": 3,
   "metadata": {},
   "outputs": [],
   "source": [
    "import launch\n",
    "adj_size = 4500000\n",
    "\n",
    "\n",
    "datasets = ['USR.txt', 'HEP.txt', 'GN.txt']\n",
    "# datasets = ['HEP.txt']\n",
    "graph_folder = \"datasets/graphs/real_world\"\n",
    "model_path = \"models/41.pt\"\n"
   ]
  },
  {
   "cell_type": "code",
   "execution_count": null,
   "metadata": {},
   "outputs": [],
   "source": [
    "# test of gen_dataset \n",
    "launch.gen_dataset(adj_size= adj_size)"
   ]
  },
  {
   "cell_type": "code",
   "execution_count": null,
   "metadata": {},
   "outputs": [],
   "source": [
    "\n",
    "launch.train_gnn(adj_size=adj_size, model_path=model_path, use_cache_pth= False)"
   ]
  },
  {
   "cell_type": "code",
   "execution_count": 5,
   "metadata": {},
   "outputs": [
    {
     "name": "stderr",
     "output_type": "stream",
     "text": [
      "2024-08-01 02:31:09,227 - pathbee - INFO - cuda:0\n"
     ]
    },
    {
     "name": "stdout",
     "output_type": "stream",
     "text": [
      "map datasets/graphs/real_world/USR.txt has 129164 nodes and 165435 edges.\n",
      "Processing graphs: 1/1\n"
     ]
    },
    {
     "name": "stderr",
     "output_type": "stream",
     "text": [
      "2024-08-01 02:31:16,237 - pathbee - INFO - The time of load model is 6.046699772996362s\n",
      "2024-08-01 02:31:18,049 - pathbee - INFO - The time of cal centrality is 1.811018831038382s\n",
      "\n",
      "\n"
     ]
    },
    {
     "name": "stdout",
     "output_type": "stream",
     "text": [
      "map datasets/graphs/real_world/HEP.txt has 34546 nodes and 421534 edges.\n",
      "Processing graphs: 1/1\n"
     ]
    },
    {
     "name": "stderr",
     "output_type": "stream",
     "text": [
      "2024-08-01 02:31:24,904 - pathbee - INFO - The time of load model is 5.621318946999963s\n",
      "2024-08-01 02:31:25,370 - pathbee - INFO - The time of cal centrality is 0.46514765702886507s\n",
      "\n",
      "\n"
     ]
    },
    {
     "name": "stdout",
     "output_type": "stream",
     "text": [
      "map datasets/graphs/real_world/GN.txt has 62586 nodes and 147892 edges.\n",
      "Processing graphs: 1/1\n"
     ]
    },
    {
     "name": "stderr",
     "output_type": "stream",
     "text": [
      "2024-08-01 02:31:28,882 - pathbee - INFO - The time of load model is 3.050543085031677s\n",
      "2024-08-01 02:31:29,343 - pathbee - INFO - The time of cal centrality is 0.46047216397710145s\n",
      "\n",
      "\n"
     ]
    }
   ],
   "source": [
    "# import sys\n",
    "# sys.path.append('pathbee/gnn')\n",
    "launch.inference_gnn_based_centrality(graph_names=datasets, model_path=model_path, adj_size= adj_size)"
   ]
  },
  {
   "cell_type": "code",
   "execution_count": null,
   "metadata": {},
   "outputs": [],
   "source": [
    "launch.run_2_hop_labeling(graph_names=datasets, num_processes=3, centrality_folder=\"datasets/centralities/gnn/41\")"
   ]
  },
  {
   "cell_type": "code",
   "execution_count": null,
   "metadata": {},
   "outputs": [],
   "source": []
  }
 ],
 "metadata": {
  "kernelspec": {
   "display_name": "fuck",
   "language": "python",
   "name": "python3"
  },
  "language_info": {
   "codemirror_mode": {
    "name": "ipython",
    "version": 3
   },
   "file_extension": ".py",
   "mimetype": "text/x-python",
   "name": "python",
   "nbconvert_exporter": "python",
   "pygments_lexer": "ipython3",
   "version": "3.9.16"
  }
 },
 "nbformat": 4,
 "nbformat_minor": 2
}
