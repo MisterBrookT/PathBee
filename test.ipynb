{
 "cells": [
  {
   "cell_type": "code",
   "execution_count": 5,
   "metadata": {},
   "outputs": [],
   "source": [
    "import launch\n",
    "adj_size = 4500000\n",
    "\n",
    "\n",
    "datasets = ['USR.txt', 'HEP.txt', 'GN.txt']\n",
    "# datasets = ['HEP.txt']\n",
    "graph_folder = \"datasets/graphs/real_world\"\n",
    "model_path = \"models/baseline.pt\"\n"
   ]
  },
  {
   "cell_type": "code",
   "execution_count": 6,
   "metadata": {},
   "outputs": [
    {
     "name": "stderr",
     "output_type": "stream",
     "text": [
      "2024-08-01 09:49:17,963 - pathbee - INFO - Generating graphs and calculating centralities...\n"
     ]
    },
    {
     "ename": "TypeError",
     "evalue": "_log() got an unexpected keyword argument 'end'",
     "output_type": "error",
     "traceback": [
      "\u001b[0;31m---------------------------------------------------------------------------\u001b[0m",
      "\u001b[0;31mTypeError\u001b[0m                                 Traceback (most recent call last)",
      "Cell \u001b[0;32mIn[6], line 2\u001b[0m\n\u001b[1;32m      1\u001b[0m \u001b[38;5;66;03m# test of gen_dataset \u001b[39;00m\n\u001b[0;32m----> 2\u001b[0m \u001b[43mlaunch\u001b[49m\u001b[38;5;241;43m.\u001b[39;49m\u001b[43mgen_dataset\u001b[49m\u001b[43m(\u001b[49m\u001b[43madj_size\u001b[49m\u001b[38;5;241;43m=\u001b[39;49m\u001b[43m \u001b[49m\u001b[43madj_size\u001b[49m\u001b[43m)\u001b[49m\n",
      "File \u001b[0;32m~/projects/PathBee_github/launch.py:25\u001b[0m, in \u001b[0;36mgen_dataset\u001b[0;34m(num_of_graphs, num_train, num_test, num_copies, graph_type, dataset_folder, num_nodes, adj_size)\u001b[0m\n\u001b[1;32m     23\u001b[0m logger\u001b[38;5;241m.\u001b[39minfo(\u001b[38;5;124m\"\u001b[39m\u001b[38;5;124mGenerating graphs and calculating centralities...\u001b[39m\u001b[38;5;124m\"\u001b[39m)\n\u001b[1;32m     24\u001b[0m \u001b[38;5;28;01mfor\u001b[39;00m i \u001b[38;5;129;01min\u001b[39;00m \u001b[38;5;28mrange\u001b[39m(num_of_graphs):\n\u001b[0;32m---> 25\u001b[0m     \u001b[43mlogger\u001b[49m\u001b[38;5;241;43m.\u001b[39;49m\u001b[43minfo\u001b[49m\u001b[43m(\u001b[49m\u001b[38;5;124;43mf\u001b[39;49m\u001b[38;5;124;43m\"\u001b[39;49m\u001b[38;5;124;43mGraph index:\u001b[39;49m\u001b[38;5;132;43;01m{\u001b[39;49;00m\u001b[43mi\u001b[49m\u001b[38;5;241;43m+\u001b[39;49m\u001b[38;5;241;43m1\u001b[39;49m\u001b[38;5;132;43;01m}\u001b[39;49;00m\u001b[38;5;124;43m/\u001b[39;49m\u001b[38;5;132;43;01m{\u001b[39;49;00m\u001b[43mnum_of_graphs\u001b[49m\u001b[38;5;132;43;01m}\u001b[39;49;00m\u001b[38;5;124;43m\"\u001b[39;49m\u001b[43m,\u001b[49m\u001b[43mend\u001b[49m\u001b[38;5;241;43m=\u001b[39;49m\u001b[38;5;124;43m'\u001b[39;49m\u001b[38;5;130;43;01m\\r\u001b[39;49;00m\u001b[38;5;124;43m'\u001b[39;49m\u001b[43m)\u001b[49m\n\u001b[1;32m     26\u001b[0m     g_nx \u001b[38;5;241m=\u001b[39m create_graph(graph_type, num_nodes)\n\u001b[1;32m     27\u001b[0m     \u001b[38;5;28;01mif\u001b[39;00m nx\u001b[38;5;241m.\u001b[39mnumber_of_isolates(g_nx)\u001b[38;5;241m>\u001b[39m\u001b[38;5;241m0\u001b[39m:\n\u001b[1;32m     28\u001b[0m         \u001b[38;5;66;03m#logger.info(\"Graph has isolates.\")\u001b[39;00m\n",
      "File \u001b[0;32m~/miniconda3/envs/pathbee/lib/python3.9/logging/__init__.py:1446\u001b[0m, in \u001b[0;36mLogger.info\u001b[0;34m(self, msg, *args, **kwargs)\u001b[0m\n\u001b[1;32m   1437\u001b[0m \u001b[38;5;250m\u001b[39m\u001b[38;5;124;03m\"\"\"\u001b[39;00m\n\u001b[1;32m   1438\u001b[0m \u001b[38;5;124;03mLog 'msg % args' with severity 'INFO'.\u001b[39;00m\n\u001b[1;32m   1439\u001b[0m \n\u001b[0;32m   (...)\u001b[0m\n\u001b[1;32m   1443\u001b[0m \u001b[38;5;124;03mlogger.info(\"Houston, we have a %s\", \"interesting problem\", exc_info=1)\u001b[39;00m\n\u001b[1;32m   1444\u001b[0m \u001b[38;5;124;03m\"\"\"\u001b[39;00m\n\u001b[1;32m   1445\u001b[0m \u001b[38;5;28;01mif\u001b[39;00m \u001b[38;5;28mself\u001b[39m\u001b[38;5;241m.\u001b[39misEnabledFor(INFO):\n\u001b[0;32m-> 1446\u001b[0m     \u001b[38;5;28;43mself\u001b[39;49m\u001b[38;5;241;43m.\u001b[39;49m\u001b[43m_log\u001b[49m\u001b[43m(\u001b[49m\u001b[43mINFO\u001b[49m\u001b[43m,\u001b[49m\u001b[43m \u001b[49m\u001b[43mmsg\u001b[49m\u001b[43m,\u001b[49m\u001b[43m \u001b[49m\u001b[43margs\u001b[49m\u001b[43m,\u001b[49m\u001b[43m \u001b[49m\u001b[38;5;241;43m*\u001b[39;49m\u001b[38;5;241;43m*\u001b[39;49m\u001b[43mkwargs\u001b[49m\u001b[43m)\u001b[49m\n",
      "\u001b[0;31mTypeError\u001b[0m: _log() got an unexpected keyword argument 'end'"
     ]
    }
   ],
   "source": [
    "# test of gen_dataset \n",
    "launch.gen_dataset(adj_size= adj_size)"
   ]
  },
  {
   "cell_type": "code",
   "execution_count": null,
   "metadata": {},
   "outputs": [],
   "source": [
    "\n",
    "launch.train_gnn(adj_size=adj_size, model_path=model_path, use_cache_pth= False)"
   ]
  },
  {
   "cell_type": "code",
   "execution_count": null,
   "metadata": {},
   "outputs": [
    {
     "name": "stdout",
     "output_type": "stream",
     "text": [
      "cuda:0\n",
      "map datasets/graphs/real_world/USR.txt has 129164 nodes and 165435 edges.\n",
      "Processing graphs: 1/1\n",
      "The time of load model is 4.486906842328608s\n",
      "The time of cal centrality is 1.064557331148535s\n",
      "\n",
      "\n",
      "map datasets/graphs/real_world/HEP.txt has 34546 nodes and 421534 edges.\n",
      "Processing graphs: 1/1\n",
      "The time of load model is 4.356918036937714s\n",
      "The time of cal centrality is 0.4001653050072491s\n",
      "\n",
      "\n",
      "map datasets/graphs/real_world/GN.txt has 62586 nodes and 147892 edges.\n",
      "Processing graphs: 1/1\n",
      "The time of load model is 1.978966971859336s\n",
      "The time of cal centrality is 0.38649883307516575s\n",
      "\n",
      "\n"
     ]
    }
   ],
   "source": [
    "# import sys\n",
    "# sys.path.append('pathbee/gnn')\n",
    "launch.inference_gnn_based_centrality(graph_names=datasets, model_path=model_path, adj_size= adj_size)"
   ]
  },
  {
   "cell_type": "code",
   "execution_count": null,
   "metadata": {},
   "outputs": [
    {
     "name": "stderr",
     "output_type": "stream",
     "text": [
      "2024-07-31 19:16:31,601 - pathbee - INFO - graph_names: ['USR.txt', 'HEP.txt', 'GN.txt']\n",
      "2024-07-31 19:16:31,603 - pathbee - INFO - algorithm_path: pathbee/algorithms/2_hop_labeling.cpp\n",
      "2024-07-31 19:16:31,605 - pathbee - INFO - num_processes: 3\n",
      "2024-07-31 19:16:31,606 - pathbee - INFO - centrality_folder: datasets/centralities/gnn/41\n",
      "2024-07-31 19:16:31,607 - pathbee - INFO - graph_folder: datasets/graphs/real_world\n",
      "2024-07-31 19:16:31,609 - pathbee - INFO - start running g++ pathbee/algorithms/2_hop_labeling.cpp -o 2_hop_labeling...\n",
      "2024-07-31 19:16:32,789 - pathbee - INFO - \n",
      "2024-07-31 19:16:32,792 - pathbee - INFO - finish running g++ pathbee/algorithms/2_hop_labeling.cpp -o 2_hop_labeling...\n",
      "\n",
      "2024-07-31 19:16:32,867 - pathbee - INFO - start running ./2_hop_labeling datasets/graphs/real_world/USR.txt datasets/centralities/gnn/41/USR_ranking.txt...\n",
      "2024-07-31 19:16:32,929 - pathbee - INFO - start running ./2_hop_labeling datasets/graphs/real_world/HEP.txt datasets/centralities/gnn/41/HEP_ranking.txt...\n",
      "2024-07-31 19:16:33,005 - pathbee - INFO - start running ./2_hop_labeling datasets/graphs/real_world/GN.txt datasets/centralities/gnn/41/GN_ranking.txt...\n",
      "2024-07-31 19:16:41,444 - pathbee - INFO - index building time:8.187147s, index size:49.052773MB\n",
      "2024-07-31 19:16:41,446 - pathbee - INFO - finish running ./2_hop_labeling datasets/graphs/real_world/USR.txt datasets/centralities/gnn/41/USR_ranking.txt...\n",
      "\n",
      "2024-07-31 19:26:23,358 - pathbee - INFO - index building time:589.992865s, index size:326.666050MB\n",
      "2024-07-31 19:26:23,360 - pathbee - INFO - finish running ./2_hop_labeling datasets/graphs/real_world/HEP.txt datasets/centralities/gnn/41/HEP_ranking.txt...\n",
      "\n",
      "2024-07-31 19:48:45,537 - pathbee - INFO - index building time:1932.193854s, index size:685.973477MB\n",
      "2024-07-31 19:48:45,539 - pathbee - INFO - finish running ./2_hop_labeling datasets/graphs/real_world/GN.txt datasets/centralities/gnn/41/GN_ranking.txt...\n",
      "\n"
     ]
    }
   ],
   "source": [
    "launch.run_2_hop_labeling(graph_names=datasets, num_processes=3, centrality_folder=\"datasets/centralities/gnn/baseline\")"
   ]
  },
  {
   "cell_type": "code",
   "execution_count": 11,
   "metadata": {},
   "outputs": [
    {
     "name": "stdout",
     "output_type": "stream",
     "text": [
      "'raph index:1'\n",
      "'raph index:2'\n",
      "'raph index:3'\n",
      "'raph index:4'\n",
      "'raph index:5'\n",
      "'raph index:6'\n",
      "'raph index:7'\n",
      "'raph index:8'\n",
      "'raph index:9'\n",
      "'raph index:10'\n",
      "'raph index:11'\n",
      "'raph index:12'\n",
      "'raph index:13'\n",
      "'raph index:14'\n",
      "'raph index:15'\n",
      "'raph index:16'\n",
      "'raph index:17'\n",
      "'raph index:18'\n",
      "'raph index:19'\n",
      "'raph index:20'\n",
      "'raph index:21'\n",
      "'raph index:22'\n",
      "'raph index:23'\n",
      "'raph index:24'\n",
      "'raph index:25'\n",
      "'raph index:26'\n",
      "'raph index:27'\n",
      "'raph index:28'\n",
      "'raph index:29'\n",
      "'raph index:30'\n"
     ]
    }
   ],
   "source": []
  }
 ],
 "metadata": {
  "kernelspec": {
   "display_name": "fuck",
   "language": "python",
   "name": "python3"
  },
  "language_info": {
   "codemirror_mode": {
    "name": "ipython",
    "version": 3
   },
   "file_extension": ".py",
   "mimetype": "text/x-python",
   "name": "python",
   "nbconvert_exporter": "python",
   "pygments_lexer": "ipython3",
   "version": "3.9.19"
  }
 },
 "nbformat": 4,
 "nbformat_minor": 2
}
